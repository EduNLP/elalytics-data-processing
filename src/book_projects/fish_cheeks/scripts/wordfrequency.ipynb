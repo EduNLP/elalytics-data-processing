{
 "cells": [
  {
   "cell_type": "code",
   "execution_count": 1,
   "metadata": {},
   "outputs": [
    {
     "name": "stdout",
     "output_type": "stream",
     "text": [
      "Amy, your favorite,\n",
      "It’s a polite Chinese custom to show you are satisfied,\n",
      "You want to be the same as American girls on the outside.\n",
      "But inside you must always be Chinese.  You must be proud you are different.  Your only shame is to have shame.\n"
     ]
    }
   ],
   "source": [
    "from general_functions.file_operations import read_txt_file\n",
    "\n",
    "text = read_txt_file(\"../data/quoted_text.txt\")\n",
    "print(text)"
   ]
  },
  {
   "cell_type": "code",
   "execution_count": 5,
   "metadata": {},
   "outputs": [
    {
     "name": "stdout",
     "output_type": "stream",
     "text": [
      "[{'word': 'to', 'frequency': 3}, {'word': 'you', 'frequency': 3}, {'word': 'be', 'frequency': 3}, {'word': 'are', 'frequency': 2}, {'word': 'You', 'frequency': 2}, {'word': 'the', 'frequency': 2}, {'word': 'must', 'frequency': 2}, {'word': 'Amy', 'frequency': 1}, {'word': 'your', 'frequency': 1}, {'word': 'favorite', 'frequency': 1}, {'word': 'It’s', 'frequency': 1}, {'word': 'a', 'frequency': 1}, {'word': 'polite', 'frequency': 1}, {'word': 'Chinese', 'frequency': 1}, {'word': 'custom', 'frequency': 1}, {'word': 'show', 'frequency': 1}, {'word': 'satisfied', 'frequency': 1}, {'word': 'want', 'frequency': 1}, {'word': 'same', 'frequency': 1}, {'word': 'as', 'frequency': 1}, {'word': 'American', 'frequency': 1}, {'word': 'girls', 'frequency': 1}, {'word': 'on', 'frequency': 1}, {'word': 'outside.', 'frequency': 1}, {'word': 'But', 'frequency': 1}, {'word': 'inside', 'frequency': 1}, {'word': 'always', 'frequency': 1}, {'word': 'Chinese.', 'frequency': 1}, {'word': 'proud', 'frequency': 1}, {'word': 'different.', 'frequency': 1}, {'word': 'Your', 'frequency': 1}, {'word': 'only', 'frequency': 1}, {'word': 'shame', 'frequency': 1}, {'word': 'is', 'frequency': 1}, {'word': 'have', 'frequency': 1}, {'word': 'shame.', 'frequency': 1}]\n"
     ]
    }
   ],
   "source": [
    "from collections import Counter\n",
    "\n",
    "words = text.replace(\".\", \"\").split()\n",
    "words = text.replace(\",\", \"\").split()\n",
    "word_frequencies = Counter(words)\n",
    "word_frequencies = [\n",
    "    {\"word\": word, \"frequency\": count} for word, count in word_frequencies.items()\n",
    "]\n",
    "word_frequencies.sort(key=lambda x: x['frequency'], reverse=True)\n",
    "\n",
    "print(word_frequencies)"
   ]
  },
  {
   "cell_type": "code",
   "execution_count": 6,
   "metadata": {},
   "outputs": [
    {
     "ename": "TypeError",
     "evalue": "expected str, bytes or os.PathLike object, not list",
     "output_type": "error",
     "traceback": [
      "\u001b[1;31m---------------------------------------------------------------------------\u001b[0m",
      "\u001b[1;31mTypeError\u001b[0m                                 Traceback (most recent call last)",
      "\u001b[1;32md:\\Projects\\Elalytics\\elalytics-data-processing\\src\\book_projects\\fish_cheeks\\scripts\\wordfrequency.ipynb Cell 3\u001b[0m line \u001b[0;36m3\n\u001b[0;32m      <a href='vscode-notebook-cell:/d%3A/Projects/Elalytics/elalytics-data-processing/src/book_projects/fish_cheeks/scripts/wordfrequency.ipynb#W2sZmlsZQ%3D%3D?line=0'>1</a>\u001b[0m \u001b[39mfrom\u001b[39;00m \u001b[39mgeneral_functions\u001b[39;00m\u001b[39m.\u001b[39;00m\u001b[39mfile_operations\u001b[39;00m \u001b[39mimport\u001b[39;00m write_json_file\n\u001b[1;32m----> <a href='vscode-notebook-cell:/d%3A/Projects/Elalytics/elalytics-data-processing/src/book_projects/fish_cheeks/scripts/wordfrequency.ipynb#W2sZmlsZQ%3D%3D?line=2'>3</a>\u001b[0m write_json_file(word_frequencies, \u001b[39m\"\u001b[39;49m\u001b[39m../data/word_frequencies.json\u001b[39;49m\u001b[39m\"\u001b[39;49m)\n",
      "File \u001b[1;32md:\\projects\\elalytics\\elalytics-data-processing\\src\\general_functions\\file_operations.py:54\u001b[0m, in \u001b[0;36mwrite_json_file\u001b[1;34m(file_path, data)\u001b[0m\n\u001b[0;32m     47\u001b[0m \u001b[39mdef\u001b[39;00m \u001b[39mwrite_json_file\u001b[39m(file_path, data):\n\u001b[0;32m     48\u001b[0m \u001b[39m    \u001b[39m\u001b[39m\"\"\"Write a json file to a given path\u001b[39;00m\n\u001b[0;32m     49\u001b[0m \u001b[39m    Args:\u001b[39;00m\n\u001b[0;32m     50\u001b[0m \u001b[39m        file_path (str): The path to the file to be written. Example: \"data/test_output.json\"\u001b[39;00m\n\u001b[0;32m     51\u001b[0m \u001b[39m        data (dict): The data to be written to the .json file\u001b[39;00m\n\u001b[0;32m     52\u001b[0m \u001b[39m    \"\"\"\u001b[39;00m\n\u001b[1;32m---> 54\u001b[0m     directory \u001b[39m=\u001b[39m os\u001b[39m.\u001b[39;49mpath\u001b[39m.\u001b[39;49mdirname(file_path)\n\u001b[0;32m     55\u001b[0m     \u001b[39mif\u001b[39;00m \u001b[39mnot\u001b[39;00m os\u001b[39m.\u001b[39mpath\u001b[39m.\u001b[39mexists(directory):\n\u001b[0;32m     56\u001b[0m         os\u001b[39m.\u001b[39mmakedirs(directory)    \n",
      "File \u001b[1;32mC:\\Python310\\lib\\ntpath.py:223\u001b[0m, in \u001b[0;36mdirname\u001b[1;34m(p)\u001b[0m\n\u001b[0;32m    221\u001b[0m \u001b[39mdef\u001b[39;00m \u001b[39mdirname\u001b[39m(p):\n\u001b[0;32m    222\u001b[0m \u001b[39m    \u001b[39m\u001b[39m\"\"\"Returns the directory component of a pathname\"\"\"\u001b[39;00m\n\u001b[1;32m--> 223\u001b[0m     \u001b[39mreturn\u001b[39;00m split(p)[\u001b[39m0\u001b[39m]\n",
      "File \u001b[1;32mC:\\Python310\\lib\\ntpath.py:185\u001b[0m, in \u001b[0;36msplit\u001b[1;34m(p)\u001b[0m\n\u001b[0;32m    180\u001b[0m \u001b[39mdef\u001b[39;00m \u001b[39msplit\u001b[39m(p):\n\u001b[0;32m    181\u001b[0m \u001b[39m    \u001b[39m\u001b[39m\"\"\"Split a pathname.\u001b[39;00m\n\u001b[0;32m    182\u001b[0m \n\u001b[0;32m    183\u001b[0m \u001b[39m    Return tuple (head, tail) where tail is everything after the final slash.\u001b[39;00m\n\u001b[0;32m    184\u001b[0m \u001b[39m    Either part may be empty.\"\"\"\u001b[39;00m\n\u001b[1;32m--> 185\u001b[0m     p \u001b[39m=\u001b[39m os\u001b[39m.\u001b[39;49mfspath(p)\n\u001b[0;32m    186\u001b[0m     seps \u001b[39m=\u001b[39m _get_bothseps(p)\n\u001b[0;32m    187\u001b[0m     d, p \u001b[39m=\u001b[39m splitdrive(p)\n",
      "\u001b[1;31mTypeError\u001b[0m: expected str, bytes or os.PathLike object, not list"
     ]
    }
   ],
   "source": [
    "from general_functions.file_operations import write_json_file\n",
    "\n",
    "write_json_file( \"../data/word_frequencies.json\", word_frequencies)"
   ]
  }
 ],
 "metadata": {
  "kernelspec": {
   "display_name": ".venv",
   "language": "python",
   "name": "python3"
  },
  "language_info": {
   "codemirror_mode": {
    "name": "ipython",
    "version": 3
   },
   "file_extension": ".py",
   "mimetype": "text/x-python",
   "name": "python",
   "nbconvert_exporter": "python",
   "pygments_lexer": "ipython3",
   "version": "3.10.4"
  }
 },
 "nbformat": 4,
 "nbformat_minor": 2
}
