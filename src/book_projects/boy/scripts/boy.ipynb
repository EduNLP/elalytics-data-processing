{
 "cells": [
  {
   "cell_type": "code",
   "execution_count": null,
   "metadata": {},
   "outputs": [],
   "source": [
    "# Get Data\n",
    "from general_functions.file_operations import read_txt_file\n",
    "data_folder = \"../data/\"\n",
    "text_file_location = data_folder + \"extracted_chapters/Chapter_1.txt\"\n",
    "text = read_txt_file(text_file_location)\n",
    "print(text)"
   ]
  },
  {
   "cell_type": "code",
   "execution_count": 1,
   "metadata": {},
   "outputs": [
    {
     "name": "stderr",
     "output_type": "stream",
     "text": [
      "d:\\Projects\\Elalytics\\elalytics-data-processing\\elalytics-data-processing\\.venv\\Lib\\site-packages\\tqdm\\auto.py:21: TqdmWarning: IProgress not found. Please update jupyter and ipywidgets. See https://ipywidgets.readthedocs.io/en/stable/user_install.html\n",
      "  from .autonotebook import tqdm as notebook_tqdm\n"
     ]
    },
    {
     "name": "stdout",
     "output_type": "stream",
     "text": [
      "using device cpu\n",
      "The following BookNLP files already exist in the output directory:\n",
      "../data/booknlp_output/chapter_1\\boy_chapter_1.book\n",
      "../data/booknlp_output/chapter_1\\boy_chapter_1.book.html\n",
      "../data/booknlp_output/chapter_1\\boy_chapter_1.entities\n",
      "../data/booknlp_output/chapter_1\\boy_chapter_1.quotes\n",
      "../data/booknlp_output/chapter_1\\boy_chapter_1.supersense\n",
      "../data/booknlp_output/chapter_1\\boy_chapter_1.tokens\n",
      "{'pipeline': 'entity,quote,supersense,event,coref', 'model': 'big'}\n",
      "LUCY'S VERSION\n",
      "--- startup: 5.317 seconds ---\n",
      "--- spacy: 0.355 seconds ---\n",
      "--- entities: 4.427 seconds ---\n",
      "--- quotes: 0.001 seconds ---\n",
      "--- attribution: 0.282 seconds ---\n",
      "--- name coref: 0.003 seconds ---\n",
      "Initializing Reading hyperparameters from d:\\Projects\\Elalytics\\elalytics-data-processing\\elalytics-data-processing\\.venv\\Lib\\site-packages\\booknlp\\english\\data\\gutenberg_prop_gender_terms.txt\n",
      "Reading hyperparameters from d:\\Projects\\Elalytics\\elalytics-data-processing\\elalytics-data-processing\\.venv\\Lib\\site-packages\\booknlp\\english\\data\\gutenberg_prop_gender_terms.txt\n",
      "--- coref: 6.776 seconds ---\n",
      "--- TOTAL (excl. startup): 11.863 seconds ---, 2273 words\n"
     ]
    }
   ],
   "source": [
    "## BookNLP Stufff\n",
    "from general_functions.booknlp import run_booknlp\n",
    "\n",
    "# Input file to process\n",
    "input_file=\"../data/extracted_chapters/Chapter_1.txt\"\n",
    "output=\"../data/booknlp_output/chapter_1/\"\n",
    "\n",
    "# File within this directory will be named ${book_id}.entities, ${book_id}.tokens, etc.\n",
    "id=\"boy_chapter_1\"\n",
    "pipeline=\"entity,quote,supersense,event,coref\"\n",
    "\n",
    "run_booknlp(input_file_location=input_file, output_directory=output, book_id=id,pipeline=pipeline)"
   ]
  }
 ],
 "metadata": {
  "kernelspec": {
   "display_name": ".venv",
   "language": "python",
   "name": "python3"
  },
  "language_info": {
   "codemirror_mode": {
    "name": "ipython",
    "version": 3
   },
   "file_extension": ".py",
   "mimetype": "text/x-python",
   "name": "python",
   "nbconvert_exporter": "python",
   "pygments_lexer": "ipython3",
   "version": "3.11.6"
  },
  "orig_nbformat": 4
 },
 "nbformat": 4,
 "nbformat_minor": 2
}
