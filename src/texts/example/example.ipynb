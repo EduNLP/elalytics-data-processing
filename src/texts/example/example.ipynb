{
 "cells": [
  {
   "attachments": {},
   "cell_type": "markdown",
   "metadata": {},
   "source": [
    "# Test Function"
   ]
  },
  {
   "attachments": {},
   "cell_type": "markdown",
   "metadata": {},
   "source": [
    "Run the below function to test if the code is working properly."
   ]
  },
  {
   "cell_type": "code",
   "execution_count": 2,
   "metadata": {},
   "outputs": [
    {
     "name": "stdout",
     "output_type": "stream",
     "text": [
      "Yay, it's working. Welcome  Deepak\n",
      "¡Bienvenidos al Repositorio!\n"
     ]
    }
   ],
   "source": [
    "from general_functions.test import print_name\n",
    "from general_functions.translation import translate_to_spanish\n",
    "\n",
    "# Enter your name here\n",
    "name = \"Deepak\"\n",
    "\n",
    "print_name(name)\n",
    "\n",
    "welcome_message = \"Welcome to the Repository, Raquel!\"\n",
    "welcome_message_in_spanish = translate_to_spanish(welcome_message)\n",
    "print(welcome_message_in_spanish)"
   ]
  },
  {
   "attachments": {},
   "cell_type": "markdown",
   "metadata": {},
   "source": [
    "# Helper Functions"
   ]
  },
  {
   "attachments": {},
   "cell_type": "markdown",
   "metadata": {},
   "source": [
    "Here are some important helper functions that will be used in the notebook."
   ]
  },
  {
   "attachments": {},
   "cell_type": "markdown",
   "metadata": {},
   "source": [
    "### Writing a text file"
   ]
  },
  {
   "cell_type": "code",
   "execution_count": null,
   "metadata": {},
   "outputs": [],
   "source": [
    "# Write a text file using a helper function\n",
    "from general_functions.file_operations import write_txt_file\n",
    "\n",
    "content = \"This is an example of a text\"\n",
    "path = \"data/test_output.txt\"\n",
    "\n",
    "write_txt_file(path, content)"
   ]
  },
  {
   "attachments": {},
   "cell_type": "markdown",
   "metadata": {},
   "source": [
    "### Reading a text file"
   ]
  },
  {
   "cell_type": "code",
   "execution_count": 7,
   "metadata": {},
   "outputs": [
    {
     "name": "stdout",
     "output_type": "stream",
     "text": [
      "I have some content\n"
     ]
    }
   ],
   "source": [
    "# Write a text file using a helper function\n",
    "from general_functions.file_operations import read_txt_file\n",
    "\n",
    "path = \"data/source.txt\"\n",
    "\n",
    "data = read_txt_file(path)\n",
    "\n",
    "print(data)"
   ]
  }
 ],
 "metadata": {
  "kernelspec": {
   "display_name": ".venv",
   "language": "python",
   "name": "python3"
  },
  "language_info": {
   "codemirror_mode": {
    "name": "ipython",
    "version": 3
   },
   "file_extension": ".py",
   "mimetype": "text/x-python",
   "name": "python",
   "nbconvert_exporter": "python",
   "pygments_lexer": "ipython3",
   "version": "3.11.5"
  },
  "orig_nbformat": 4
 },
 "nbformat": 4,
 "nbformat_minor": 2
}
